{
  "cells": [
    {
      "cell_type": "markdown",
      "metadata": {
        "id": "view-in-github",
        "colab_type": "text"
      },
      "source": [
        "<a href=\"https://colab.research.google.com/github/sreeramavasarala0-tech/bioinformatics-rosalind/blob/main/notebooks/Bioinformatics_Module03.ipynb\" target=\"_parent\"><img src=\"https://colab.research.google.com/assets/colab-badge.svg\" alt=\"Open In Colab\"/></a>"
      ]
    },
    {
      "cell_type": "markdown",
      "metadata": {
        "id": "3armhXcdrvls"
      },
      "source": [
        "# Bioinformatics Module 03\n",
        "\n"
      ],
      "id": "3armhXcdrvls"
    },
    {
      "cell_type": "markdown",
      "metadata": {
        "id": "9jUK2Bjervlv"
      },
      "source": [],
      "id": "9jUK2Bjervlv"
    },
    {
      "cell_type": "code",
      "execution_count": 1,
      "metadata": {
        "colab": {
          "base_uri": "https://localhost:8080/"
        },
        "id": "gvL8NHqtrvlv",
        "outputId": "c9963608-80d3-4440-ab82-770a84878548"
      },
      "outputs": [
        {
          "output_type": "stream",
          "name": "stdout",
          "text": [
            "Python: 3.12.11\n",
            "Platform: Linux-6.1.123+-x86_64-with-glibc2.35\n"
          ]
        }
      ],
      "source": [
        "import sys, platform\n",
        "print(\"Python:\", sys.version.split()[0])\n",
        "print(\"Platform:\", platform.platform())"
      ],
      "id": "gvL8NHqtrvlv"
    },
    {
      "cell_type": "markdown",
      "metadata": {
        "id": "boFRVJFbrvlw"
      },
      "source": [
        "## P1. print( ) and variables (assignment operator `=`)\n",
        "- `print()` sends output to the screen.\n",
        "- `=` assigns values to variables.\n",
        "- Use brief, descriptive, lower_snake_case names."
      ],
      "id": "boFRVJFbrvlw"
    },
    {
      "cell_type": "code",
      "execution_count": 2,
      "metadata": {
        "colab": {
          "base_uri": "https://localhost:8080/"
        },
        "id": "qdKLoieKrvlw",
        "outputId": "887c4fa7-5fd7-4ae2-817f-895252d1b4cf"
      },
      "outputs": [
        {
          "output_type": "stream",
          "name": "stdout",
          "text": [
            "hello world\n",
            "DNA 1000 0.42\n"
          ]
        }
      ],
      "source": [
        "print(\"hello world\")\n",
        "\n",
        "message = \"DNA\"\n",
        "length_bp = 1000  # integer\n",
        "gc_fraction = 0.42  # float\n",
        "print(message, length_bp, gc_fraction)"
      ],
      "id": "qdKLoieKrvlw"
    },
    {
      "cell_type": "markdown",
      "metadata": {
        "id": "wCFRBokCrvlw"
      },
      "source": [
        "## P2. Data types and `type()`\n",
        "Operators behave differently by type. Use `type()` to check."
      ],
      "id": "wCFRBokCrvlw"
    },
    {
      "cell_type": "code",
      "execution_count": 3,
      "metadata": {
        "colab": {
          "base_uri": "https://localhost:8080/"
        },
        "id": "Oic3QpGxrvlw",
        "outputId": "777c79fe-6525-4d25-b45f-4b9b5e7519c6"
      },
      "outputs": [
        {
          "output_type": "stream",
          "name": "stdout",
          "text": [
            "<class 'int'> <class 'float'> <class 'str'>\n"
          ]
        }
      ],
      "source": [
        "x, y, z = 5, 5.0, \"5\"\n",
        "print(type(x), type(y), type(z))"
      ],
      "id": "Oic3QpGxrvlw"
    },
    {
      "cell_type": "markdown",
      "metadata": {
        "id": "2yBmALSSrvlw"
      },
      "source": [
        "## P3. Input( )\n",
        "When running in Colab/Jupyter, `input()` will prompt in the output area. Wrap with try/except for robust behavior."
      ],
      "id": "2yBmALSSrvlw"
    },
    {
      "cell_type": "code",
      "execution_count": 4,
      "metadata": {
        "colab": {
          "base_uri": "https://localhost:8080/"
        },
        "id": "FuDb08mkrvlx",
        "outputId": "ccadf98c-a59d-4266-c2f4-e05135e98b6e"
      },
      "outputs": [
        {
          "output_type": "stream",
          "name": "stdout",
          "text": [
            "Enter your name: Avasarala Sreeram\n",
            "Hello Avasarala Sreeram\n"
          ]
        }
      ],
      "source": [
        "try:\n",
        "    user_name = input(\"Enter your name: \")\n",
        "    print(f\"Hello {user_name}\")\n",
        "except Exception as e:\n",
        "    print(\"Input not available in this environment:\", e)"
      ],
      "id": "FuDb08mkrvlx"
    },
    {
      "cell_type": "markdown",
      "metadata": {
        "id": "Hz5YVQOZrvlx"
      },
      "source": [
        "### Mini-ROSALIND style (hypotenuse):\n",
        "Ask for two legs *a* and *b* and compute \\(c = \\sqrt{a^2 + b^2}\\)."
      ],
      "id": "Hz5YVQOZrvlx"
    },
    {
      "cell_type": "code",
      "execution_count": 5,
      "metadata": {
        "id": "bK8V403Xrvlx"
      },
      "outputs": [],
      "source": [
        "import math\n",
        "def hypotenuse_via_input():\n",
        "    try:\n",
        "        a = float(input(\"a = \"))\n",
        "        b = float(input(\"b = \"))\n",
        "        c = math.sqrt(a*a + b*b)\n",
        "        print(\"c =\", c)\n",
        "    except Exception as e:\n",
        "        print(\"Skipping interactive example:\", e)\n",
        "\n",
        "# hypotenuse_via_input()  # uncomment to try interactively"
      ],
      "id": "bK8V403Xrvlx"
    },
    {
      "cell_type": "markdown",
      "metadata": {
        "id": "AVXlXCtirvlx"
      },
      "source": [
        "## P4. Lists, indexing, and slicing\n",
        "- Lists store multiple items.\n",
        "- Zero-based indexing.\n",
        "- Slices are non-inclusive on the end (`[start:stop]` returns `start..stop-1`)."
      ],
      "id": "AVXlXCtirvlx"
    },
    {
      "cell_type": "code",
      "execution_count": 6,
      "metadata": {
        "colab": {
          "base_uri": "https://localhost:8080/"
        },
        "id": "UpFzvcnnrvlx",
        "outputId": "299a1721-fbd3-4458-fd2a-c84f0ef8f97a"
      },
      "outputs": [
        {
          "output_type": "stream",
          "name": "stdout",
          "text": [
            "World\n",
            "['Hello', 'World', 'Alfred R. Wallace', 'Alfred R. Wallace', 'Charles Darwin']\n",
            "['World', 'Alfred R. Wallace']\n"
          ]
        }
      ],
      "source": [
        "names = [\"Hello\", \"World\", \"Alfred R. Wallace\", \"Charles Darwin\"]\n",
        "print(names[1])        # 'World'\n",
        "names[3] = \"Alfred R. Wallace\"  # replace index 3\n",
        "names.append(\"Charles Darwin\")  # append\n",
        "print(names)\n",
        "print(names[1:3])      # slice returns ['World', 'Alfred R. Wallace']"
      ],
      "id": "UpFzvcnnrvlx"
    },
    {
      "cell_type": "markdown",
      "metadata": {
        "id": "L3nx_rQurvlx"
      },
      "source": [
        "## P5. Strings and slicing\n",
        "Strings slice like lists."
      ],
      "id": "L3nx_rQurvlx"
    },
    {
      "cell_type": "code",
      "execution_count": 7,
      "metadata": {
        "colab": {
          "base_uri": "https://localhost:8080/"
        },
        "id": "8s9qvHRFrvly",
        "outputId": "ed5e0370-5b58-40fd-ec35-bbe0657c192b"
      },
      "outputs": [
        {
          "output_type": "stream",
          "name": "stdout",
          "text": [
            "Hello World\n",
            "Wallace World\n"
          ]
        }
      ],
      "source": [
        "my_string = \"HelloWorldCharlesDarwinAlfred R. Wallace\"\n",
        "print(my_string[:5], my_string[5:10])  # 'Hello World'\n",
        "print(\"Wallace\", my_string[5:10])      # 'Wallace World' via mixed printing"
      ],
      "id": "8s9qvHRFrvly"
    },
    {
      "cell_type": "markdown",
      "metadata": {
        "id": "ANtHbzOVrvly"
      },
      "source": [
        "## P6. Conditionals (`if`/`else`)"
      ],
      "id": "ANtHbzOVrvly"
    },
    {
      "cell_type": "code",
      "execution_count": 8,
      "metadata": {
        "colab": {
          "base_uri": "https://localhost:8080/"
        },
        "id": "1DFXVlqirvly",
        "outputId": "d6d20fec-2e13-4f06-abfd-03106ba80eb0"
      },
      "outputs": [
        {
          "output_type": "stream",
          "name": "stdout",
          "text": [
            "6\n"
          ]
        }
      ],
      "source": [
        "a, b = 3, 3\n",
        "if a == b:\n",
        "    print(a + b)\n",
        "else:\n",
        "    print(a - b)"
      ],
      "id": "1DFXVlqirvly"
    },
    {
      "cell_type": "markdown",
      "metadata": {
        "id": "5k2fABn5rvly"
      },
      "source": [
        "## P7. Loops (`while`, `for`, `range`)"
      ],
      "id": "5k2fABn5rvly"
    },
    {
      "cell_type": "code",
      "execution_count": 9,
      "metadata": {
        "colab": {
          "base_uri": "https://localhost:8080/"
        },
        "id": "waRqRr_Zrvly",
        "outputId": "f3a385b8-5934-4da6-ef16-5f1478682eb4"
      },
      "outputs": [
        {
          "output_type": "stream",
          "name": "stdout",
          "text": [
            "Counting!\n",
            "Counting!\n",
            "Counting!\n",
            "Hello Ada\n",
            "Hello Linus\n",
            "Hello Rosalind\n",
            "Looped 10 times\n",
            "[9, 12, 15, 18, 21, 24, 27]\n"
          ]
        }
      ],
      "source": [
        "# while loop that runs exactly 3 times\n",
        "count = 0\n",
        "while count < 3:\n",
        "    print(\"Counting!\")\n",
        "    count += 1\n",
        "\n",
        "# for over list\n",
        "for nm in [\"Ada\", \"Linus\", \"Rosalind\"]:\n",
        "    print(\"Hello\", nm)\n",
        "\n",
        "# for over range (10 iterations, numbers 0..9)\n",
        "iterations = 10\n",
        "for number in range(iterations):\n",
        "    pass  # replace with work as needed\n",
        "print(\"Looped\", iterations, \"times\")\n",
        "\n",
        "# every 3rd number from 9..27 inclusive\n",
        "print(list(range(9, 28, 3)))"
      ],
      "id": "waRqRr_Zrvly"
    },
    {
      "cell_type": "markdown",
      "metadata": {
        "id": "sG5BOSRrrvlz"
      },
      "source": [
        "## P8. File I/O (`open`, `read`, `readline`, `readlines`, `join`)"
      ],
      "id": "sG5BOSRrrvlz"
    },
    {
      "cell_type": "code",
      "execution_count": 10,
      "metadata": {
        "colab": {
          "base_uri": "https://localhost:8080/"
        },
        "id": "WK3ykD7mrvlz",
        "outputId": "c4c8dc6f-2994-43c8-e395-d43fcc862ea9"
      },
      "outputs": [
        {
          "output_type": "stream",
          "name": "stdout",
          "text": [
            "[read()]\n",
            " Bravely\n",
            "bold\n",
            "Sir Robin...\n",
            "\n",
            "[readline()] -> Bravely\n",
            "[readlines()] -> ['bold\\n', 'Sir Robin...\\n']\n",
            "[join]\n",
            " Bravely\n",
            "bold\n",
            "Sir Robin...\n",
            "\n"
          ]
        }
      ],
      "source": [
        "# Create a small practice file\n",
        "practice_path = \"practice.txt\"\n",
        "with open(practice_path, \"w\") as f:\n",
        "    f.write(\"Bravely\\n\")\n",
        "    f.write(\"bold\\n\")\n",
        "    f.write(\"Sir Robin...\\n\")\n",
        "\n",
        "# read()\n",
        "with open(practice_path, \"r\") as data:\n",
        "    content = data.read()\n",
        "print(\"[read()]\\n\", content)\n",
        "\n",
        "# readline() then readlines() on same handle demo\n",
        "with open(practice_path, \"r\") as data:\n",
        "    first = data.readline()\n",
        "    rest = data.readlines()\n",
        "print(\"[readline()] ->\", first.strip())\n",
        "print(\"[readlines()] ->\", rest)\n",
        "\n",
        "# join() a list of lines\n",
        "with open(practice_path, \"r\") as data:\n",
        "    list_of_lines = data.readlines()\n",
        "print(\"[join]\\n\", \"\".join(list_of_lines))"
      ],
      "id": "WK3ykD7mrvlz"
    },
    {
      "cell_type": "markdown",
      "metadata": {
        "id": "HwKwwWk9rvlz"
      },
      "source": [
        "## P9. Splitting strings and iterating words\n",
        "Use `.split()` to split on whitespace and iterate over words."
      ],
      "id": "HwKwwWk9rvlz"
    },
    {
      "cell_type": "code",
      "execution_count": 11,
      "metadata": {
        "colab": {
          "base_uri": "https://localhost:8080/"
        },
        "id": "_js9LqDlrvlz",
        "outputId": "f05d7c10-9d26-4bb2-e98e-8b5b441c8317"
      },
      "outputs": [
        {
          "output_type": "stream",
          "name": "stdout",
          "text": [
            "To\n",
            "be\n",
            "or\n",
            "not\n",
            "to\n",
            "be,\n",
            "that\n",
            "is\n",
            "the\n",
            "question\n"
          ]
        }
      ],
      "source": [
        "line = \"To be or not to be, that is the question\"\n",
        "for word in line.split():\n",
        "    print(word)"
      ],
      "id": "_js9LqDlrvlz"
    },
    {
      "cell_type": "markdown",
      "metadata": {
        "id": "tktZA8wirvlz"
      },
      "source": [
        "## P10. Dictionaries `{}` (key→value)\n",
        "Create, update, iterate, and print."
      ],
      "id": "tktZA8wirvlz"
    },
    {
      "cell_type": "code",
      "execution_count": 12,
      "metadata": {
        "colab": {
          "base_uri": "https://localhost:8080/"
        },
        "id": "PVXcgbq3rvlz",
        "outputId": "5d2115d9-e30f-4ff7-a29a-6be8d22752d8"
      },
      "outputs": [
        {
          "output_type": "stream",
          "name": "stdout",
          "text": [
            "ATGCGT\n",
            "H.sapiens ATGCGT\n",
            "P.troglodytes ATGAGT\n",
            "G.gorilla ATGCGC\n",
            "M.mulatta ATGTTT\n",
            "P.paniscus ATGCGA\n"
          ]
        }
      ],
      "source": [
        "sequences = {\n",
        "    \"H.sapiens\": \"ATGCGT\",\n",
        "    \"P.troglodytes\": \"ATGAGT\",\n",
        "    \"G.gorilla\": \"ATGCGC\",\n",
        "}\n",
        "print(sequences[\"H.sapiens\"])  # specific value\n",
        "sequences[\"M.mulatta\"] = \"ATGTTT\"  # add\n",
        "sequences.update({\"P.paniscus\": \"ATGCGA\"})\n",
        "for sp, seq in sequences.items():\n",
        "    print(sp, seq)"
      ],
      "id": "PVXcgbq3rvlz"
    },
    {
      "cell_type": "markdown",
      "metadata": {
        "id": "1t6XPXtQrvl0"
      },
      "source": [
        "## P11. Counting with `count()`\n",
        "Count nucleotides in a DNA string."
      ],
      "id": "1t6XPXtQrvl0"
    },
    {
      "cell_type": "code",
      "execution_count": 13,
      "metadata": {
        "colab": {
          "base_uri": "https://localhost:8080/"
        },
        "id": "yEh_ZNC1rvl0",
        "outputId": "e966587f-69f3-4ffd-940e-fd6fb8e46771"
      },
      "outputs": [
        {
          "output_type": "stream",
          "name": "stdout",
          "text": [
            "A C G T counts: 6 6 6 6\n"
          ]
        }
      ],
      "source": [
        "dna = \"ACGTACGTAAAACCCCGGGGTTTT\"\n",
        "print(\"A C G T counts:\", dna.count(\"A\"), dna.count(\"C\"), dna.count(\"G\"), dna.count(\"T\"))"
      ],
      "id": "yEh_ZNC1rvl0"
    },
    {
      "cell_type": "markdown",
      "metadata": {
        "id": "eYNqbLDxrvl0"
      },
      "source": [
        "---\n",
        "# Biopython Essentials\n",
        "The next sections use Biopython. In Colab, run the install cell first."
      ],
      "id": "eYNqbLDxrvl0"
    },
    {
      "cell_type": "code",
      "execution_count": 14,
      "metadata": {
        "tags": [
          "colab"
        ],
        "colab": {
          "base_uri": "https://localhost:8080/"
        },
        "id": "Fh5ZXouLrvl0",
        "outputId": "5b79488e-7d6e-414d-ffa5-b1bf8e23ffd9"
      },
      "outputs": [
        {
          "output_type": "stream",
          "name": "stdout",
          "text": [
            "\u001b[?25l   \u001b[90m━━━━━━━━━━━━━━━━━━━━━━━━━━━━━━━━━━━━━━━━\u001b[0m \u001b[32m0.0/3.3 MB\u001b[0m \u001b[31m?\u001b[0m eta \u001b[36m-:--:--\u001b[0m\r\u001b[2K   \u001b[91m━━━━\u001b[0m\u001b[90m╺\u001b[0m\u001b[90m━━━━━━━━━━━━━━━━━━━━━━━━━━━━━━━━━━━\u001b[0m \u001b[32m0.3/3.3 MB\u001b[0m \u001b[31m10.2 MB/s\u001b[0m eta \u001b[36m0:00:01\u001b[0m\r\u001b[2K   \u001b[91m━━━━━━━━━━━━━━━━━━━━━━━━━━━━━━━━━━\u001b[0m\u001b[90m╺\u001b[0m\u001b[90m━━━━━\u001b[0m \u001b[32m2.8/3.3 MB\u001b[0m \u001b[31m40.6 MB/s\u001b[0m eta \u001b[36m0:00:01\u001b[0m\r\u001b[2K   \u001b[90m━━━━━━━━━━━━━━━━━━━━━━━━━━━━━━━━━━━━━━━━\u001b[0m \u001b[32m3.3/3.3 MB\u001b[0m \u001b[31m33.5 MB/s\u001b[0m eta \u001b[36m0:00:00\u001b[0m\n",
            "\u001b[?25hInstalled Biopython 1.85\n"
          ]
        }
      ],
      "source": [
        "# If running in Colab or a fresh environment:\n",
        "try:\n",
        "    import Bio  # quick check\n",
        "    print(\"Biopython already available\")\n",
        "except Exception:\n",
        "    import sys\n",
        "    !{sys.executable} -m pip install --quiet biopython\n",
        "    import Bio\n",
        "    print(\"Installed Biopython\", Bio.__version__)"
      ],
      "id": "Fh5ZXouLrvl0"
    },
    {
      "cell_type": "markdown",
      "metadata": {
        "id": "_X-fWZARrvl0"
      },
      "source": [
        "## BP1. `Seq` object, complement/transcribe/translate"
      ],
      "id": "_X-fWZARrvl0"
    },
    {
      "cell_type": "code",
      "execution_count": 15,
      "metadata": {
        "colab": {
          "base_uri": "https://localhost:8080/"
        },
        "id": "Rma8lBWlrvl0",
        "outputId": "8add4516-3af3-4721-eaf8-e3eabe86199a"
      },
      "outputs": [
        {
          "output_type": "stream",
          "name": "stdout",
          "text": [
            "Seq: ATGGCCATTGTAATGGGCCGCTGAAAGGGTGCCCGATAG\n",
            "Complement: TACCGGTAACATTACCCGGCGACTTTCCCACGGGCTATC\n",
            "RevComp: CTATCGGGCACCCTTTCAGCGGCCCATTACAATGGCCAT\n",
            "RNA: AUGGCCAUUGUAAUGGGCCGCUGAAAGGGUGCCCGAUAG\n",
            "Protein: MAIVMGR*KGAR*\n"
          ]
        }
      ],
      "source": [
        "from Bio.Seq import Seq\n",
        "\n",
        "my_sequence = Seq(\"ATGGCCATTGTAATGGGCCGCTGAAAGGGTGCCCGATAG\")\n",
        "print(\"Seq:\", my_sequence)\n",
        "print(\"Complement:\", my_sequence.complement())\n",
        "print(\"RevComp:\", my_sequence.reverse_complement())\n",
        "rna = my_sequence.transcribe()\n",
        "print(\"RNA:\", rna)\n",
        "print(\"Protein:\", rna.translate(to_stop=False))"
      ],
      "id": "Rma8lBWlrvl0"
    },
    {
      "cell_type": "markdown",
      "metadata": {
        "id": "o0kERfgzrvl0"
      },
      "source": [
        "## BP2. `SeqIO.parse` FASTA + SeqUtils.gc_fraction\n",
        "Reads sequences from a FASTA file and prints ID, length, and GC%."
      ],
      "id": "o0kERfgzrvl0"
    },
    {
      "cell_type": "code",
      "execution_count": 16,
      "metadata": {
        "colab": {
          "base_uri": "https://localhost:8080/"
        },
        "id": "L1e68n8Xrvl0",
        "outputId": "db6f2e37-7ffe-47bd-d348-3df4632b296a"
      },
      "outputs": [
        {
          "output_type": "stream",
          "name": "stdout",
          "text": [
            "seq1 12 50.0\n",
            "seq2 12 50.0\n"
          ]
        }
      ],
      "source": [
        "# Create a small FASTA for demonstration\n",
        "fasta_path = \"practice_9.fasta\"\n",
        "with open(fasta_path, \"w\") as f:\n",
        "    f.write(\">seq1\\nATGCATGCATGC\\n>seq2\\nGGGCCCATAAAT\\n\")\n",
        "\n",
        "from Bio.SeqIO import parse\n",
        "from Bio.SeqUtils import gc_fraction\n",
        "\n",
        "for rec in parse(fasta_path, \"fasta\"):\n",
        "    seq = str(rec.seq)\n",
        "    print(rec.id, len(seq), round(gc_fraction(seq)*100, 2))"
      ],
      "id": "L1e68n8Xrvl0"
    },
    {
      "cell_type": "markdown",
      "metadata": {
        "id": "bPIvrcCdrvl0"
      },
      "source": [
        "## BP3. Mini tasks\n",
        "- Transcribe DNA → RNA from a file.\n",
        "- Compute GC% and return the highest-GC sequence ID.\n",
        "\n",
        "These are simplified versions you can adapt for ROSALIND 7–9."
      ],
      "id": "bPIvrcCdrvl0"
    },
    {
      "cell_type": "code",
      "execution_count": 17,
      "metadata": {
        "colab": {
          "base_uri": "https://localhost:8080/"
        },
        "id": "M-XpKPj7rvl0",
        "outputId": "701779f1-36ac-408d-86f3-79fd7273bd5e"
      },
      "outputs": [
        {
          "output_type": "stream",
          "name": "stdout",
          "text": [
            "Wrote: practice_9_RNA.fasta\n",
            "Max GC%: seq1 50.0\n"
          ]
        }
      ],
      "source": [
        "from typing import Tuple\n",
        "\n",
        "def transcribe_fasta_to_rna(in_fasta: str, out_fasta: str) -> None:\n",
        "    from Bio.SeqIO import parse, write\n",
        "    from Bio.SeqRecord import SeqRecord\n",
        "    records = []\n",
        "    for rec in parse(in_fasta, \"fasta\"):\n",
        "        rna_seq = rec.seq.transcribe()\n",
        "        records.append(SeqRecord(rna_seq, id=rec.id+\"_RNA\", description=\"\"))\n",
        "    from Bio import SeqIO\n",
        "    SeqIO.write(records, out_fasta, \"fasta\")\n",
        "\n",
        "def max_gc_record(in_fasta: str) -> Tuple[str, float]:\n",
        "    from Bio.SeqIO import parse\n",
        "    from Bio.SeqUtils import gc_fraction\n",
        "    best_id, best_gc = None, -1.0\n",
        "    for rec in parse(in_fasta, \"fasta\"):\n",
        "        gc = gc_fraction(str(rec.seq))\n",
        "        if gc > best_gc:\n",
        "            best_id, best_gc = rec.id, gc\n",
        "    return best_id, best_gc*100\n",
        "\n",
        "# Demo with our small FASTA\n",
        "out = \"practice_9_RNA.fasta\"\n",
        "transcribe_fasta_to_rna(fasta_path, out)\n",
        "print(\"Wrote:\", out)\n",
        "bid, bgc = max_gc_record(fasta_path)\n",
        "print(\"Max GC%:\", bid, round(bgc, 2))"
      ],
      "id": "M-XpKPj7rvl0"
    }
  ],
  "metadata": {
    "kernelspec": {
      "display_name": "Python 3",
      "language": "python",
      "name": "python3"
    },
    "language_info": {
      "name": "python",
      "version": "3.x"
    },
    "colab": {
      "provenance": [],
      "include_colab_link": true
    }
  },
  "nbformat": 4,
  "nbformat_minor": 5
}